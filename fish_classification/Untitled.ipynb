{
 "cells": [
  {
   "cell_type": "code",
   "execution_count": 1,
   "metadata": {
    "collapsed": false
   },
   "outputs": [
    {
     "name": "stdout",
     "output_type": "stream",
     "text": [
      "/home/ubuntu/nbs/fish/fish_classification\n",
      "/home/ubuntu/nbs/fish/fish_classification\n"
     ]
    },
    {
     "name": "stderr",
     "output_type": "stream",
     "text": [
      "Using Theano backend.\n",
      "Using gpu device 0: Tesla K80 (CNMeM is disabled, cuDNN 5103)\n",
      "/home/ubuntu/anaconda2/lib/python2.7/site-packages/theano/sandbox/cuda/__init__.py:600: UserWarning: Your cuDNN version is more recent than the one Theano officially supports. If you see any problems, try updating Theano or downgrading cuDNN to version 5.\n",
      "  warnings.warn(warn)\n"
     ]
    },
    {
     "name": "stdout",
     "output_type": "stream",
     "text": [
      "/home/ubuntu/nbs/fish/fish_classification\n",
      "/home/ubuntu/nbs/fish/fish_classification/data/ /home/ubuntu/nbs/fish/fish_classification/data//test/ /home/ubuntu/nbs/fish/fish_classificationresults/ /home/ubuntu/nbs/fish/fish_classification/data//train/ /home/ubuntu/nbs/fish/fish_classification/data//models/\n"
     ]
    }
   ],
   "source": [
    "%cd /home/ubuntu/nbs/fish/fish_classification/\n",
    "import os, sys\n",
    "current_dir = os.getcwd()\n",
    "LESSON_HOME_DIR = current_dir\n",
    "DATA_HOME_DIR = current_dir\n",
    "\n",
    "print DATA_HOME_DIR\n",
    "\n",
    "sys.path.insert(1, os.path.join(sys.path[0], '..'))\n",
    "import vgg16, utils\n",
    "import utils; reload(utils)\n",
    "from utils import *\n",
    "from vgg16 import Vgg16\n",
    "from vgg16bn import Vgg16BN\n",
    "from utils import vgg_ft\n",
    "import glob\n",
    "import numpy as np\n",
    "from utils import save_array\n",
    "%matplotlib inline\n",
    "\n",
    "%cd $DATA_HOME_DIR\n",
    "path = DATA_HOME_DIR + '/data/'\n",
    "test_path = path + '/test/' \n",
    "results_path = DATA_HOME_DIR + 'results/'\n",
    "sample_path = path + '/sample/'\n",
    "train_path = path + '/train/'\n",
    "valid_path = path + '/valid/'\n",
    "model_path = path + '/models/'\n",
    "print path, test_path, results_path, train_path, model_path"
   ]
  },
  {
   "cell_type": "code",
   "execution_count": 2,
   "metadata": {
    "collapsed": false
   },
   "outputs": [
    {
     "name": "stdout",
     "output_type": "stream",
     "text": [
      "Found 2984 images belonging to 8 classes.\n",
      "Found 394 images belonging to 8 classes.\n",
      "Found 399 images belonging to 8 classes.\n",
      "Found 0 images belonging to 8 classes.\n",
      "Found 709 images belonging to 8 classes.\n"
     ]
    }
   ],
   "source": [
    "# path = \"data/sample/\"\n",
    "# path = \"data/fish/\"\n",
    "batch_size=64\n",
    "\n",
    "(val_classes, trn_classes, test_classes, val_labels, trn_labels, test_labels,\n",
    "    val_filenames, filenames, test_filenames) = get_classes(sample_path)\n",
    "\n",
    "batches = get_batches(train_path, batch_size=batch_size)\n",
    "val_batches = get_batches(valid_path, batch_size=batch_size*2, shuffle=False)\n",
    "\n",
    "raw_filenames = [f.split('/')[-1] for f in filenames]\n",
    "raw_test_filenames = [f.split('/')[-1] for f in test_filenames]\n",
    "raw_val_filenames = [f.split('/')[-1] for f in val_filenames]"
   ]
  },
  {
   "cell_type": "code",
   "execution_count": 4,
   "metadata": {
    "collapsed": true
   },
   "outputs": [],
   "source": [
    "from keras.callbacks import History \n",
    "history = History()"
   ]
  },
  {
   "cell_type": "raw",
   "metadata": {},
   "source": [
    "class_acc=[]\n",
    "val_class_acc=[]\n",
    "class_loss=[]\n",
    "val_class_loss=[]"
   ]
  },
  {
   "cell_type": "code",
   "execution_count": 20,
   "metadata": {
    "collapsed": true
   },
   "outputs": [],
   "source": [
    "class_acc_percent = []\n",
    "for i in class_acc:\n",
    "    i = i * 100\n",
    "    class_acc_percent.append(i)\n",
    "    \n",
    "val_class_acc_percent = []\n",
    "for i in val_class_acc:\n",
    "    i = i * 100\n",
    "    val_class_acc_percent.append(i)"
   ]
  },
  {
   "cell_type": "code",
   "execution_count": null,
   "metadata": {
    "collapsed": true
   },
   "outputs": [],
   "source": [
    "history_list = history.history\n",
    "class_acc += history_list['acc']\n",
    "val_class_acc += history_list['val_acc']\n",
    "class_loss += history_list['loss']\n",
    "val_class_loss += history_list['val_loss']\n",
    "print len(class_acc)"
   ]
  },
  {
   "cell_type": "code",
   "execution_count": 5,
   "metadata": {
    "collapsed": true
   },
   "outputs": [],
   "source": [
    "trn = load_array(path+'results/trn_640.dat')\n",
    "val = load_array(path+'results/val_640.dat')\n",
    "test = load_array(path+'results/test_640.dat')"
   ]
  },
  {
   "cell_type": "code",
   "execution_count": 6,
   "metadata": {
    "collapsed": true
   },
   "outputs": [],
   "source": [
    "vgg640 = Vgg16BN((360, 640)).model\n",
    "vgg640.pop()\n",
    "vgg640.input_shape, vgg640.output_shape\n",
    "vgg640.compile(Adam(), 'categorical_crossentropy', metrics=['accuracy'])"
   ]
  },
  {
   "cell_type": "code",
   "execution_count": 7,
   "metadata": {
    "collapsed": true
   },
   "outputs": [],
   "source": [
    "conv_val_feat = load_array(path+'results/conv_val_640.dat')\n",
    "conv_trn_feat = load_array(path+'results/conv_trn_640.dat')\n",
    "conv_test_feat = load_array(path+'results/conv_test_640.dat')"
   ]
  },
  {
   "cell_type": "code",
   "execution_count": 8,
   "metadata": {
    "collapsed": true
   },
   "outputs": [],
   "source": [
    "inp = Input(vgg640.layers[-1].output_shape[1:]) \n",
    "\n"
   ]
  },
  {
   "cell_type": "code",
   "execution_count": 9,
   "metadata": {
    "collapsed": true
   },
   "outputs": [],
   "source": [
    "conv_layers,_ = split_at(vgg640, Convolution2D)\n"
   ]
  },
  {
   "cell_type": "code",
   "execution_count": 10,
   "metadata": {
    "collapsed": true
   },
   "outputs": [],
   "source": [
    "nf=128; p=0.5"
   ]
  },
  {
   "cell_type": "code",
   "execution_count": 9,
   "metadata": {
    "collapsed": true
   },
   "outputs": [],
   "source": [
    "def get_lrg_layers():\n",
    "    return [\n",
    "        BatchNormalization(axis=1, input_shape=conv_layers[-1].output_shape[1:]),\n",
    "        Convolution2D(nf,3,3, activation='relu', border_mode='same'),\n",
    "        BatchNormalization(axis=1),\n",
    "        MaxPooling2D(),\n",
    "        Convolution2D(nf,3,3, activation='relu', border_mode='same'),\n",
    "        BatchNormalization(axis=1),\n",
    "        MaxPooling2D(),\n",
    "        Convolution2D(nf,3,3, activation='relu', border_mode='same'),\n",
    "        BatchNormalization(axis=1),\n",
    "        MaxPooling2D((1,2)),\n",
    "        Convolution2D(8,3,3, border_mode='same'),\n",
    "        Dropout(p),\n",
    "        GlobalAveragePooling2D(),\n",
    "        Activation('softmax')\n",
    "    ]\n",
    "\n"
   ]
  },
  {
   "cell_type": "code",
   "execution_count": 19,
   "metadata": {
    "collapsed": false
   },
   "outputs": [
    {
     "name": "stdout",
     "output_type": "stream",
     "text": [
      "th\n"
     ]
    }
   ],
   "source": [
    "lrg_model = Sequential(get_lrg_layers())\n",
    "lrg_model.compile(Adam(lr=0.01), loss='categorical_crossentropy', metrics=['accuracy'])"
   ]
  },
  {
   "cell_type": "raw",
   "metadata": {},
   "source": [
    "lrg_model.optimizer.lr=1e-4\n",
    "lrg_model.fit(conv_trn_feat, trn_labels, batch_size=batch_size, nb_epoch=10, \n",
    "             validation_data=(conv_val_feat, val_labels), callbacks=[history])"
   ]
  },
  {
   "cell_type": "code",
   "execution_count": 27,
   "metadata": {
    "collapsed": false
   },
   "outputs": [
    {
     "name": "stdout",
     "output_type": "stream",
     "text": [
      "20\n"
     ]
    }
   ],
   "source": [
    "history_list = history.history\n",
    "class_acc += history_list['acc']\n",
    "val_class_acc += history_list['val_acc']\n",
    "class_loss += history_list['loss']\n",
    "val_class_loss += history_list['val_loss']\n",
    "print len(class_acc)"
   ]
  },
  {
   "cell_type": "code",
   "execution_count": 10,
   "metadata": {
    "collapsed": true
   },
   "outputs": [],
   "source": [
    "import json\n",
    "anno_classes = ['alb', 'bet', 'dol', 'lag', 'other', 'shark', 'yft']\n",
    "\n",
    "bb_json = {}\n",
    "for c in anno_classes:\n",
    "    j = json.load(open('{}/{}_labels.json'.format(path, c), 'r'))\n",
    "    for l in j:\n",
    "        if 'annotations' in l.keys() and len(l['annotations'])>0:\n",
    "            bb_json[l['filename'].split('/')[-1]] = sorted(\n",
    "                l['annotations'], key=lambda x: x['height']*x['width'])[-1]\n",
    "            \n",
    "file2idx = {o:i for i,o in enumerate(raw_filenames)}\n",
    "val_file2idx = {o:i for i,o in enumerate(raw_val_filenames)}\n",
    "test_file2idx = {o:i for i,o in enumerate(raw_test_filenames)}\n",
    "\n",
    "empty_bbox = {'height': 0., 'width': 0., 'x': 0., 'y': 0.}\n",
    "\n",
    "for f in raw_filenames:\n",
    "    if not f in bb_json.keys(): bb_json[f] = empty_bbox\n",
    "for f in raw_val_filenames:\n",
    "    if not f in bb_json.keys(): bb_json[f] = empty_bbox\n",
    "for f in raw_test_filenames:\n",
    "    if not f in bb_json.keys(): bb_json[f] = empty_bbox\n",
    "        \n",
    "sizes = [PIL.Image.open(path+'sample/train/'+f).size for f in filenames]\n",
    "raw_val_sizes = [PIL.Image.open(path+'sample/valid/'+f).size for f in val_filenames]\n",
    "raw_test_sizes = [PIL.Image.open(path+'sample/test/'+f).size for f in test_filenames]\n",
    "\n",
    "bb_params = ['height', 'width', 'x', 'y']\n",
    "def convert_bb(bb, size):\n",
    "    bb = [bb[p] for p in bb_params]\n",
    "    conv_x = (224. / size[0])\n",
    "    conv_y = (224. / size[1])\n",
    "    bb[0] = bb[0]*conv_y\n",
    "    bb[1] = bb[1]*conv_x\n",
    "    bb[2] = max(bb[2]*conv_x, 0)\n",
    "    bb[3] = max(bb[3]*conv_y, 0)\n",
    "    return bb\n",
    "            \n",
    "    \n",
    "trn_bbox = np.stack([convert_bb(bb_json[f], s) for f,s in zip(raw_filenames, sizes)], \n",
    "                   ).astype(np.float32)\n",
    "val_bbox = np.stack([convert_bb(bb_json[f], s) \n",
    "                   for f,s in zip(raw_val_filenames, raw_val_sizes)]).astype(np.float32)\n",
    "test_bbox = np.stack([convert_bb(bb_json[f], s) \n",
    "                   for f,s in zip(raw_test_filenames, raw_test_sizes)]).astype(np.float32)\n",
    "\n",
    "def create_rect(bb, color='red'):\n",
    "    return plt.Rectangle((bb[2], bb[3]), bb[1], bb[0], color=color, fill=False, lw=3)\n",
    "\n",
    "def show_bb(i):\n",
    "    bb = val_bbox[i]\n",
    "    plot(val[i])\n",
    "    plt.gca().add_patch(create_rect(bb))"
   ]
  },
  {
   "cell_type": "code",
   "execution_count": 12,
   "metadata": {
    "collapsed": false
   },
   "outputs": [
    {
     "name": "stdout",
     "output_type": "stream",
     "text": [
      "th\n",
      "th\n"
     ]
    }
   ],
   "source": [
    "x = BatchNormalization(axis=1, input_shape=(512,14,14))(inp)\n",
    "x = Convolution2D(128,3,3, activation='relu', border_mode='same')(x)\n",
    "x = BatchNormalization(axis=1)(x)\n",
    "x = Convolution2D(128,3,3, activation='relu', border_mode='same')(x)\n",
    "x = BatchNormalization(axis=1)(x)\n",
    "x = Convolution2D(128,3,3, activation='relu', border_mode='same')(x)\n",
    "x = BatchNormalization(axis=1)(x)\n",
    "x = MaxPooling2D()(x)\n",
    "x_b = Convolution2D(4,3,3, border_mode='same')(x)\n",
    "x_bb = GlobalAveragePooling2D(name='bb')(x_b)\n",
    "x_c = Convolution2D(8,3,3, border_mode='same')(x)\n",
    "x_c = GlobalAveragePooling2D()(x_c)\n",
    "x_class = Activation('softmax', name = 'class')(x_c)\n",
    "\n"
   ]
  },
  {
   "cell_type": "code",
   "execution_count": 32,
   "metadata": {
    "collapsed": true
   },
   "outputs": [],
   "source": [
    "inp = Input(conv_layers[-1].output_shape[1:])\n",
    "x = MaxPooling2D()(inp)\n",
    "x = BatchNormalization(axis=1)(x)\n",
    "x = Dropout(p/4)(x)\n",
    "x = Flatten()(x)\n",
    "x = Dense(512, activation='relu')(x)\n",
    "x = BatchNormalization()(x)\n",
    "x = Dropout(p)(x)\n",
    "x = Dense(512, activation='relu')(x)\n",
    "x = BatchNormalization()(x)\n",
    "x = Dropout(p/2)(x)\n",
    "x_bb = Dense(4, name='bb')(x)\n",
    "x_class = Dense(8, activation='softmax', name='class')(x)"
   ]
  },
  {
   "cell_type": "code",
   "execution_count": 33,
   "metadata": {
    "collapsed": true
   },
   "outputs": [],
   "source": [
    "model = Model([inp], [x_bb, x_class])\n",
    "model.compile(Adam(lr=0.01), loss=['mse', 'categorical_crossentropy'], metrics=['accuracy'],\n",
    "             loss_weights=[.001, 1.])"
   ]
  },
  {
   "cell_type": "code",
   "execution_count": 34,
   "metadata": {
    "collapsed": true
   },
   "outputs": [],
   "source": [
    "class_acc=[]\n",
    "val_class_acc=[]\n",
    "class_loss=[]\n",
    "val_class_loss=[]"
   ]
  },
  {
   "cell_type": "code",
   "execution_count": 35,
   "metadata": {
    "collapsed": false
   },
   "outputs": [
    {
     "name": "stdout",
     "output_type": "stream",
     "text": [
      "Train on 2984 samples, validate on 394 samples\n",
      "Epoch 1/10\n",
      "2984/2984 [==============================] - 9s - loss: 4.7586 - bb_loss: 3566.9749 - class_loss: 1.1916 - bb_acc: 0.4534 - class_acc: 0.7205 - val_loss: 18.6812 - val_bb_loss: 15431.9733 - val_class_loss: 3.2492 - val_bb_acc: 0.6015 - val_class_acc: 0.6320\n",
      "Epoch 2/10\n",
      "2984/2984 [==============================] - 8s - loss: 0.8128 - bb_loss: 605.5898 - class_loss: 0.2072 - bb_acc: 0.7058 - class_acc: 0.9367 - val_loss: 1.5499 - val_bb_loss: 1113.5643 - val_class_loss: 0.4363 - val_bb_acc: 0.6827 - val_class_acc: 0.9137\n",
      "Epoch 3/10\n",
      "2984/2984 [==============================] - 8s - loss: 0.4436 - bb_loss: 367.6443 - class_loss: 0.0760 - bb_acc: 0.7192 - class_acc: 0.9802 - val_loss: 0.6739 - val_bb_loss: 422.6012 - val_class_loss: 0.2513 - val_bb_acc: 0.7284 - val_class_acc: 0.9569\n",
      "Epoch 4/10\n",
      "2984/2984 [==============================] - 8s - loss: 0.2723 - bb_loss: 234.7320 - class_loss: 0.0376 - bb_acc: 0.7637 - class_acc: 0.9920 - val_loss: 0.4780 - val_bb_loss: 257.6400 - val_class_loss: 0.2204 - val_bb_acc: 0.7462 - val_class_acc: 0.9695\n",
      "Epoch 5/10\n",
      "2984/2984 [==============================] - 8s - loss: 0.1798 - bb_loss: 162.7804 - class_loss: 0.0170 - bb_acc: 0.7973 - class_acc: 0.9960 - val_loss: 0.4366 - val_bb_loss: 211.7059 - val_class_loss: 0.2249 - val_bb_acc: 0.7944 - val_class_acc: 0.9695\n",
      "Epoch 6/10\n",
      "2984/2984 [==============================] - 8s - loss: 0.1427 - bb_loss: 123.6178 - class_loss: 0.0191 - bb_acc: 0.8190 - class_acc: 0.9977 - val_loss: 0.3896 - val_bb_loss: 187.2446 - val_class_loss: 0.2023 - val_bb_acc: 0.7995 - val_class_acc: 0.9695\n",
      "Epoch 7/10\n",
      "2984/2984 [==============================] - 8s - loss: 0.1388 - bb_loss: 98.6810 - class_loss: 0.0401 - bb_acc: 0.8200 - class_acc: 0.9970 - val_loss: 0.3611 - val_bb_loss: 174.5451 - val_class_loss: 0.1865 - val_bb_acc: 0.7893 - val_class_acc: 0.9695\n",
      "Epoch 8/10\n",
      "2984/2984 [==============================] - 8s - loss: 0.1208 - bb_loss: 79.7405 - class_loss: 0.0410 - bb_acc: 0.8261 - class_acc: 0.9966 - val_loss: 0.3584 - val_bb_loss: 162.8095 - val_class_loss: 0.1956 - val_bb_acc: 0.7919 - val_class_acc: 0.9772\n",
      "Epoch 9/10\n",
      "2984/2984 [==============================] - 8s - loss: 0.1179 - bb_loss: 79.3224 - class_loss: 0.0385 - bb_acc: 0.8348 - class_acc: 0.9977 - val_loss: 0.3603 - val_bb_loss: 162.5971 - val_class_loss: 0.1977 - val_bb_acc: 0.8046 - val_class_acc: 0.9695\n",
      "Epoch 10/10\n",
      "2984/2984 [==============================] - 8s - loss: 0.1147 - bb_loss: 71.1532 - class_loss: 0.0436 - bb_acc: 0.8358 - class_acc: 0.9963 - val_loss: 0.3760 - val_bb_loss: 160.4381 - val_class_loss: 0.2156 - val_bb_acc: 0.7944 - val_class_acc: 0.9670\n"
     ]
    },
    {
     "data": {
      "text/plain": [
       "<keras.callbacks.History at 0x7f2de1164fd0>"
      ]
     },
     "execution_count": 35,
     "metadata": {},
     "output_type": "execute_result"
    }
   ],
   "source": [
    "model.optimizer.lr = 1e-2\n",
    "\n",
    "model.fit(conv_trn_feat, [trn_bbox, trn_labels], batch_size=batch_size, nb_epoch=10, \n",
    "             validation_data=(conv_val_feat, [val_bbox, val_labels]), callbacks=[history])"
   ]
  },
  {
   "cell_type": "code",
   "execution_count": 36,
   "metadata": {
    "collapsed": false
   },
   "outputs": [
    {
     "name": "stdout",
     "output_type": "stream",
     "text": [
      "10\n"
     ]
    }
   ],
   "source": [
    "history_list = history.history\n",
    "class_acc += history_list['class_acc']\n",
    "val_class_acc += history_list['val_class_acc']\n",
    "class_loss += history_list['class_loss']\n",
    "val_class_loss += history_list['val_class_loss']\n",
    "print len(class_acc)"
   ]
  },
  {
   "cell_type": "code",
   "execution_count": 37,
   "metadata": {
    "collapsed": false
   },
   "outputs": [
    {
     "name": "stdout",
     "output_type": "stream",
     "text": [
      "Train on 2984 samples, validate on 394 samples\n",
      "Epoch 1/10\n",
      "2984/2984 [==============================] - 8s - loss: 0.1027 - bb_loss: 63.4303 - class_loss: 0.0393 - bb_acc: 0.8358 - class_acc: 0.9973 - val_loss: 0.3773 - val_bb_loss: 158.1952 - val_class_loss: 0.2191 - val_bb_acc: 0.7970 - val_class_acc: 0.9746\n",
      "Epoch 2/10\n",
      "2984/2984 [==============================] - 8s - loss: 0.1008 - bb_loss: 62.5807 - class_loss: 0.0382 - bb_acc: 0.8432 - class_acc: 0.9977 - val_loss: 0.3753 - val_bb_loss: 159.1084 - val_class_loss: 0.2161 - val_bb_acc: 0.7944 - val_class_acc: 0.9721\n",
      "Epoch 3/10\n",
      "2984/2984 [==============================] - 8s - loss: 0.0813 - bb_loss: 54.1920 - class_loss: 0.0271 - bb_acc: 0.8321 - class_acc: 0.9980 - val_loss: 0.3903 - val_bb_loss: 169.5500 - val_class_loss: 0.2208 - val_bb_acc: 0.8020 - val_class_acc: 0.9721\n",
      "Epoch 4/10\n",
      "2984/2984 [==============================] - 8s - loss: 0.0659 - bb_loss: 55.0364 - class_loss: 0.0109 - bb_acc: 0.8408 - class_acc: 0.9980 - val_loss: 0.4011 - val_bb_loss: 161.6668 - val_class_loss: 0.2395 - val_bb_acc: 0.8299 - val_class_acc: 0.9721\n",
      "Epoch 5/10\n",
      "2984/2984 [==============================] - 7s - loss: 0.0724 - bb_loss: 60.7934 - class_loss: 0.0116 - bb_acc: 0.8348 - class_acc: 0.9980 - val_loss: 0.4046 - val_bb_loss: 174.0447 - val_class_loss: 0.2305 - val_bb_acc: 0.7944 - val_class_acc: 0.9721\n",
      "Epoch 6/10\n",
      "2984/2984 [==============================] - 7s - loss: 0.0618 - bb_loss: 50.5425 - class_loss: 0.0113 - bb_acc: 0.8371 - class_acc: 0.9983 - val_loss: 0.3872 - val_bb_loss: 159.0008 - val_class_loss: 0.2282 - val_bb_acc: 0.8503 - val_class_acc: 0.9721\n",
      "Epoch 7/10\n",
      "2984/2984 [==============================] - 7s - loss: 0.0579 - bb_loss: 47.2244 - class_loss: 0.0107 - bb_acc: 0.8445 - class_acc: 0.9987 - val_loss: 0.4031 - val_bb_loss: 155.6157 - val_class_loss: 0.2475 - val_bb_acc: 0.8528 - val_class_acc: 0.9670\n",
      "Epoch 8/10\n",
      "2984/2984 [==============================] - 7s - loss: 0.0613 - bb_loss: 52.1791 - class_loss: 0.0091 - bb_acc: 0.8505 - class_acc: 0.9987 - val_loss: 0.3958 - val_bb_loss: 152.1837 - val_class_loss: 0.2436 - val_bb_acc: 0.7944 - val_class_acc: 0.9721\n",
      "Epoch 9/10\n",
      "2984/2984 [==============================] - 7s - loss: 0.0851 - bb_loss: 50.4257 - class_loss: 0.0347 - bb_acc: 0.8314 - class_acc: 0.9970 - val_loss: 0.4296 - val_bb_loss: 151.6542 - val_class_loss: 0.2779 - val_bb_acc: 0.8452 - val_class_acc: 0.9721\n",
      "Epoch 10/10\n",
      "2984/2984 [==============================] - 8s - loss: 0.1028 - bb_loss: 58.6086 - class_loss: 0.0442 - bb_acc: 0.8415 - class_acc: 0.9913 - val_loss: 0.5978 - val_bb_loss: 178.1122 - val_class_loss: 0.4197 - val_bb_acc: 0.7970 - val_class_acc: 0.9416\n"
     ]
    },
    {
     "data": {
      "text/plain": [
       "<keras.callbacks.History at 0x7f2de1162cd0>"
      ]
     },
     "execution_count": 37,
     "metadata": {},
     "output_type": "execute_result"
    }
   ],
   "source": [
    "model.optimizer.lr = 1e-3\n",
    "\n",
    "model.fit(conv_trn_feat, [trn_bbox, trn_labels], batch_size=batch_size, nb_epoch=10, \n",
    "             validation_data=(conv_val_feat, [val_bbox, val_labels]), callbacks=[history])"
   ]
  },
  {
   "cell_type": "code",
   "execution_count": 38,
   "metadata": {
    "collapsed": false
   },
   "outputs": [
    {
     "name": "stdout",
     "output_type": "stream",
     "text": [
      "20\n"
     ]
    }
   ],
   "source": [
    "history_list = history.history\n",
    "class_acc += history_list['class_acc']\n",
    "val_class_acc += history_list['val_class_acc']\n",
    "class_loss += history_list['class_loss']\n",
    "val_class_loss += history_list['val_class_loss']\n",
    "print len(class_acc)"
   ]
  },
  {
   "cell_type": "code",
   "execution_count": 39,
   "metadata": {
    "collapsed": false,
    "scrolled": true
   },
   "outputs": [
    {
     "name": "stdout",
     "output_type": "stream",
     "text": [
      "Train on 2984 samples, validate on 394 samples\n",
      "Epoch 1/10\n",
      "2984/2984 [==============================] - 8s - loss: 0.1781 - bb_loss: 76.6476 - class_loss: 0.1015 - bb_acc: 0.8277 - class_acc: 0.9792 - val_loss: 0.7793 - val_bb_loss: 229.2941 - val_class_loss: 0.5500 - val_bb_acc: 0.7792 - val_class_acc: 0.9416\n",
      "Epoch 2/10\n",
      "2984/2984 [==============================] - 8s - loss: 0.3569 - bb_loss: 111.1835 - class_loss: 0.2458 - bb_acc: 0.8264 - class_acc: 0.9692 - val_loss: 0.8915 - val_bb_loss: 254.0898 - val_class_loss: 0.6374 - val_bb_acc: 0.8655 - val_class_acc: 0.9264\n",
      "Epoch 3/10\n",
      "2984/2984 [==============================] - 8s - loss: 0.2496 - bb_loss: 101.9984 - class_loss: 0.1476 - bb_acc: 0.8133 - class_acc: 0.9789 - val_loss: 0.6036 - val_bb_loss: 216.0201 - val_class_loss: 0.3876 - val_bb_acc: 0.8249 - val_class_acc: 0.9543\n",
      "Epoch 4/10\n",
      "1792/2984 [=================>............]"
     ]
    },
    {
     "ename": "KeyboardInterrupt",
     "evalue": "",
     "output_type": "error",
     "traceback": [
      "\u001b[0;31m---------------------------------------\u001b[0m",
      "\u001b[0;31mKeyboardInterrupt\u001b[0mTraceback (most recent call last)",
      "\u001b[0;32m<ipython-input-39-50ae5cd09302>\u001b[0m in \u001b[0;36m<module>\u001b[0;34m()\u001b[0m\n\u001b[1;32m      2\u001b[0m \u001b[0;34m\u001b[0m\u001b[0m\n\u001b[1;32m      3\u001b[0m model.fit(conv_trn_feat, [trn_bbox, trn_labels], batch_size=batch_size, nb_epoch=10, \n\u001b[0;32m----> 4\u001b[0;31m              validation_data=(conv_val_feat, [val_bbox, val_labels]), callbacks=[history])\n\u001b[0m",
      "\u001b[0;32m/home/ubuntu/anaconda2/lib/python2.7/site-packages/keras/engine/training.pyc\u001b[0m in \u001b[0;36mfit\u001b[0;34m(self, x, y, batch_size, nb_epoch, verbose, callbacks, validation_split, validation_data, shuffle, class_weight, sample_weight)\u001b[0m\n\u001b[1;32m   1104\u001b[0m                               \u001b[0mverbose\u001b[0m\u001b[0;34m=\u001b[0m\u001b[0mverbose\u001b[0m\u001b[0;34m,\u001b[0m \u001b[0mcallbacks\u001b[0m\u001b[0;34m=\u001b[0m\u001b[0mcallbacks\u001b[0m\u001b[0;34m,\u001b[0m\u001b[0;34m\u001b[0m\u001b[0m\n\u001b[1;32m   1105\u001b[0m                               \u001b[0mval_f\u001b[0m\u001b[0;34m=\u001b[0m\u001b[0mval_f\u001b[0m\u001b[0;34m,\u001b[0m \u001b[0mval_ins\u001b[0m\u001b[0;34m=\u001b[0m\u001b[0mval_ins\u001b[0m\u001b[0;34m,\u001b[0m \u001b[0mshuffle\u001b[0m\u001b[0;34m=\u001b[0m\u001b[0mshuffle\u001b[0m\u001b[0;34m,\u001b[0m\u001b[0;34m\u001b[0m\u001b[0m\n\u001b[0;32m-> 1106\u001b[0;31m                               callback_metrics=callback_metrics)\n\u001b[0m\u001b[1;32m   1107\u001b[0m \u001b[0;34m\u001b[0m\u001b[0m\n\u001b[1;32m   1108\u001b[0m     \u001b[0;32mdef\u001b[0m \u001b[0mevaluate\u001b[0m\u001b[0;34m(\u001b[0m\u001b[0mself\u001b[0m\u001b[0;34m,\u001b[0m \u001b[0mx\u001b[0m\u001b[0;34m,\u001b[0m \u001b[0my\u001b[0m\u001b[0;34m,\u001b[0m \u001b[0mbatch_size\u001b[0m\u001b[0;34m=\u001b[0m\u001b[0;36m32\u001b[0m\u001b[0;34m,\u001b[0m \u001b[0mverbose\u001b[0m\u001b[0;34m=\u001b[0m\u001b[0;36m1\u001b[0m\u001b[0;34m,\u001b[0m \u001b[0msample_weight\u001b[0m\u001b[0;34m=\u001b[0m\u001b[0mNone\u001b[0m\u001b[0;34m)\u001b[0m\u001b[0;34m:\u001b[0m\u001b[0;34m\u001b[0m\u001b[0m\n",
      "\u001b[0;32m/home/ubuntu/anaconda2/lib/python2.7/site-packages/keras/engine/training.pyc\u001b[0m in \u001b[0;36m_fit_loop\u001b[0;34m(self, f, ins, out_labels, batch_size, nb_epoch, verbose, callbacks, val_f, val_ins, shuffle, callback_metrics)\u001b[0m\n\u001b[1;32m    828\u001b[0m                     \u001b[0mbatch_logs\u001b[0m\u001b[0;34m[\u001b[0m\u001b[0ml\u001b[0m\u001b[0;34m]\u001b[0m \u001b[0;34m=\u001b[0m \u001b[0mo\u001b[0m\u001b[0;34m\u001b[0m\u001b[0m\n\u001b[1;32m    829\u001b[0m \u001b[0;34m\u001b[0m\u001b[0m\n\u001b[0;32m--> 830\u001b[0;31m                 \u001b[0mcallbacks\u001b[0m\u001b[0;34m.\u001b[0m\u001b[0mon_batch_end\u001b[0m\u001b[0;34m(\u001b[0m\u001b[0mbatch_index\u001b[0m\u001b[0;34m,\u001b[0m \u001b[0mbatch_logs\u001b[0m\u001b[0;34m)\u001b[0m\u001b[0;34m\u001b[0m\u001b[0m\n\u001b[0m\u001b[1;32m    831\u001b[0m \u001b[0;34m\u001b[0m\u001b[0m\n\u001b[1;32m    832\u001b[0m                 \u001b[0;32mif\u001b[0m \u001b[0mbatch_index\u001b[0m \u001b[0;34m==\u001b[0m \u001b[0mlen\u001b[0m\u001b[0;34m(\u001b[0m\u001b[0mbatches\u001b[0m\u001b[0;34m)\u001b[0m \u001b[0;34m-\u001b[0m \u001b[0;36m1\u001b[0m\u001b[0;34m:\u001b[0m  \u001b[0;31m# last batch\u001b[0m\u001b[0;34m\u001b[0m\u001b[0m\n",
      "\u001b[0;32m/home/ubuntu/anaconda2/lib/python2.7/site-packages/keras/callbacks.pyc\u001b[0m in \u001b[0;36mon_batch_end\u001b[0;34m(self, batch, logs)\u001b[0m\n\u001b[1;32m     59\u001b[0m         \u001b[0mt_before_callbacks\u001b[0m \u001b[0;34m=\u001b[0m \u001b[0mtime\u001b[0m\u001b[0;34m.\u001b[0m\u001b[0mtime\u001b[0m\u001b[0;34m(\u001b[0m\u001b[0;34m)\u001b[0m\u001b[0;34m\u001b[0m\u001b[0m\n\u001b[1;32m     60\u001b[0m         \u001b[0;32mfor\u001b[0m \u001b[0mcallback\u001b[0m \u001b[0;32min\u001b[0m \u001b[0mself\u001b[0m\u001b[0;34m.\u001b[0m\u001b[0mcallbacks\u001b[0m\u001b[0;34m:\u001b[0m\u001b[0;34m\u001b[0m\u001b[0m\n\u001b[0;32m---> 61\u001b[0;31m             \u001b[0mcallback\u001b[0m\u001b[0;34m.\u001b[0m\u001b[0mon_batch_end\u001b[0m\u001b[0;34m(\u001b[0m\u001b[0mbatch\u001b[0m\u001b[0;34m,\u001b[0m \u001b[0mlogs\u001b[0m\u001b[0;34m)\u001b[0m\u001b[0;34m\u001b[0m\u001b[0m\n\u001b[0m\u001b[1;32m     62\u001b[0m         \u001b[0mself\u001b[0m\u001b[0;34m.\u001b[0m\u001b[0m_delta_ts_batch_end\u001b[0m\u001b[0;34m.\u001b[0m\u001b[0mappend\u001b[0m\u001b[0;34m(\u001b[0m\u001b[0mtime\u001b[0m\u001b[0;34m.\u001b[0m\u001b[0mtime\u001b[0m\u001b[0;34m(\u001b[0m\u001b[0;34m)\u001b[0m \u001b[0;34m-\u001b[0m \u001b[0mt_before_callbacks\u001b[0m\u001b[0;34m)\u001b[0m\u001b[0;34m\u001b[0m\u001b[0m\n\u001b[1;32m     63\u001b[0m         \u001b[0mdelta_t_median\u001b[0m \u001b[0;34m=\u001b[0m \u001b[0mnp\u001b[0m\u001b[0;34m.\u001b[0m\u001b[0mmedian\u001b[0m\u001b[0;34m(\u001b[0m\u001b[0mself\u001b[0m\u001b[0;34m.\u001b[0m\u001b[0m_delta_ts_batch_end\u001b[0m\u001b[0;34m)\u001b[0m\u001b[0;34m\u001b[0m\u001b[0m\n",
      "\u001b[0;32m/home/ubuntu/anaconda2/lib/python2.7/site-packages/keras/callbacks.pyc\u001b[0m in \u001b[0;36mon_batch_end\u001b[0;34m(self, batch, logs)\u001b[0m\n\u001b[1;32m    187\u001b[0m         \u001b[0;31m# will be handled by on_epoch_end\u001b[0m\u001b[0;34m\u001b[0m\u001b[0;34m\u001b[0m\u001b[0m\n\u001b[1;32m    188\u001b[0m         \u001b[0;32mif\u001b[0m \u001b[0mself\u001b[0m\u001b[0;34m.\u001b[0m\u001b[0mverbose\u001b[0m \u001b[0;32mand\u001b[0m \u001b[0mself\u001b[0m\u001b[0;34m.\u001b[0m\u001b[0mseen\u001b[0m \u001b[0;34m<\u001b[0m \u001b[0mself\u001b[0m\u001b[0;34m.\u001b[0m\u001b[0mparams\u001b[0m\u001b[0;34m[\u001b[0m\u001b[0;34m'nb_sample'\u001b[0m\u001b[0;34m]\u001b[0m\u001b[0;34m:\u001b[0m\u001b[0;34m\u001b[0m\u001b[0m\n\u001b[0;32m--> 189\u001b[0;31m             \u001b[0mself\u001b[0m\u001b[0;34m.\u001b[0m\u001b[0mprogbar\u001b[0m\u001b[0;34m.\u001b[0m\u001b[0mupdate\u001b[0m\u001b[0;34m(\u001b[0m\u001b[0mself\u001b[0m\u001b[0;34m.\u001b[0m\u001b[0mseen\u001b[0m\u001b[0;34m,\u001b[0m \u001b[0mself\u001b[0m\u001b[0;34m.\u001b[0m\u001b[0mlog_values\u001b[0m\u001b[0;34m)\u001b[0m\u001b[0;34m\u001b[0m\u001b[0m\n\u001b[0m\u001b[1;32m    190\u001b[0m \u001b[0;34m\u001b[0m\u001b[0m\n\u001b[1;32m    191\u001b[0m     \u001b[0;32mdef\u001b[0m \u001b[0mon_epoch_end\u001b[0m\u001b[0;34m(\u001b[0m\u001b[0mself\u001b[0m\u001b[0;34m,\u001b[0m \u001b[0mepoch\u001b[0m\u001b[0;34m,\u001b[0m \u001b[0mlogs\u001b[0m\u001b[0;34m=\u001b[0m\u001b[0;34m{\u001b[0m\u001b[0;34m}\u001b[0m\u001b[0;34m)\u001b[0m\u001b[0;34m:\u001b[0m\u001b[0;34m\u001b[0m\u001b[0m\n",
      "\u001b[0;32m/home/ubuntu/anaconda2/lib/python2.7/site-packages/keras/utils/generic_utils.pyc\u001b[0m in \u001b[0;36mupdate\u001b[0;34m(self, current, values, force)\u001b[0m\n\u001b[1;32m    128\u001b[0m             \u001b[0mbar\u001b[0m \u001b[0;34m+=\u001b[0m \u001b[0;34m(\u001b[0m\u001b[0;34m'.'\u001b[0m \u001b[0;34m*\u001b[0m \u001b[0;34m(\u001b[0m\u001b[0mself\u001b[0m\u001b[0;34m.\u001b[0m\u001b[0mwidth\u001b[0m \u001b[0;34m-\u001b[0m \u001b[0mprog_width\u001b[0m\u001b[0;34m)\u001b[0m\u001b[0;34m)\u001b[0m\u001b[0;34m\u001b[0m\u001b[0m\n\u001b[1;32m    129\u001b[0m             \u001b[0mbar\u001b[0m \u001b[0;34m+=\u001b[0m \u001b[0;34m']'\u001b[0m\u001b[0;34m\u001b[0m\u001b[0m\n\u001b[0;32m--> 130\u001b[0;31m             \u001b[0msys\u001b[0m\u001b[0;34m.\u001b[0m\u001b[0mstdout\u001b[0m\u001b[0;34m.\u001b[0m\u001b[0mwrite\u001b[0m\u001b[0;34m(\u001b[0m\u001b[0mbar\u001b[0m\u001b[0;34m)\u001b[0m\u001b[0;34m\u001b[0m\u001b[0m\n\u001b[0m\u001b[1;32m    131\u001b[0m             \u001b[0mself\u001b[0m\u001b[0;34m.\u001b[0m\u001b[0mtotal_width\u001b[0m \u001b[0;34m=\u001b[0m \u001b[0mlen\u001b[0m\u001b[0;34m(\u001b[0m\u001b[0mbar\u001b[0m\u001b[0;34m)\u001b[0m\u001b[0;34m\u001b[0m\u001b[0m\n\u001b[1;32m    132\u001b[0m \u001b[0;34m\u001b[0m\u001b[0m\n",
      "\u001b[0;32m/home/ubuntu/anaconda2/lib/python2.7/site-packages/ipykernel/iostream.pyc\u001b[0m in \u001b[0;36mwrite\u001b[0;34m(self, string)\u001b[0m\n\u001b[1;32m    325\u001b[0m                     \u001b[0mself\u001b[0m\u001b[0;34m.\u001b[0m\u001b[0mflush\u001b[0m\u001b[0;34m(\u001b[0m\u001b[0;34m)\u001b[0m\u001b[0;34m\u001b[0m\u001b[0m\n\u001b[1;32m    326\u001b[0m             \u001b[0;32melse\u001b[0m\u001b[0;34m:\u001b[0m\u001b[0;34m\u001b[0m\u001b[0m\n\u001b[0;32m--> 327\u001b[0;31m                 \u001b[0mself\u001b[0m\u001b[0;34m.\u001b[0m\u001b[0m_schedule_flush\u001b[0m\u001b[0;34m(\u001b[0m\u001b[0;34m)\u001b[0m\u001b[0;34m\u001b[0m\u001b[0m\n\u001b[0m\u001b[1;32m    328\u001b[0m \u001b[0;34m\u001b[0m\u001b[0m\n\u001b[1;32m    329\u001b[0m     \u001b[0;32mdef\u001b[0m \u001b[0mwritelines\u001b[0m\u001b[0;34m(\u001b[0m\u001b[0mself\u001b[0m\u001b[0;34m,\u001b[0m \u001b[0msequence\u001b[0m\u001b[0;34m)\u001b[0m\u001b[0;34m:\u001b[0m\u001b[0;34m\u001b[0m\u001b[0m\n",
      "\u001b[0;32m/home/ubuntu/anaconda2/lib/python2.7/site-packages/ipykernel/iostream.pyc\u001b[0m in \u001b[0;36m_schedule_flush\u001b[0;34m(self)\u001b[0m\n\u001b[1;32m    244\u001b[0m         \u001b[0mcall\u001b[0m \u001b[0mthis\u001b[0m \u001b[0mon\u001b[0m \u001b[0mwrite\u001b[0m\u001b[0;34m,\u001b[0m \u001b[0mto\u001b[0m \u001b[0mindicate\u001b[0m \u001b[0mthat\u001b[0m \u001b[0mflush\u001b[0m \u001b[0mshould\u001b[0m \u001b[0mbe\u001b[0m \u001b[0mcalled\u001b[0m \u001b[0msoon\u001b[0m\u001b[0;34m.\u001b[0m\u001b[0;34m\u001b[0m\u001b[0m\n\u001b[1;32m    245\u001b[0m         \"\"\"\n\u001b[0;32m--> 246\u001b[0;31m         \u001b[0;32mwith\u001b[0m \u001b[0mself\u001b[0m\u001b[0;34m.\u001b[0m\u001b[0m_flush_lock\u001b[0m\u001b[0;34m:\u001b[0m\u001b[0;34m\u001b[0m\u001b[0m\n\u001b[0m\u001b[1;32m    247\u001b[0m             \u001b[0;32mif\u001b[0m \u001b[0mself\u001b[0m\u001b[0;34m.\u001b[0m\u001b[0m_flush_timeout\u001b[0m \u001b[0;32mis\u001b[0m \u001b[0;32mnot\u001b[0m \u001b[0mNone\u001b[0m\u001b[0;34m:\u001b[0m\u001b[0;34m\u001b[0m\u001b[0m\n\u001b[1;32m    248\u001b[0m                 \u001b[0;32mreturn\u001b[0m\u001b[0;34m\u001b[0m\u001b[0m\n",
      "\u001b[0;31mKeyboardInterrupt\u001b[0m: "
     ]
    }
   ],
   "source": [
    "model.optimizer.lr = 1e-4\n",
    "\n",
    "model.fit(conv_trn_feat, [trn_bbox, trn_labels], batch_size=batch_size, nb_epoch=10, \n",
    "             validation_data=(conv_val_feat, [val_bbox, val_labels]), callbacks=[history])"
   ]
  },
  {
   "cell_type": "code",
   "execution_count": null,
   "metadata": {
    "collapsed": false
   },
   "outputs": [
    {
     "name": "stdout",
     "output_type": "stream",
     "text": [
      "23\n"
     ]
    }
   ],
   "source": [
    "history_list = history.history\n",
    "class_acc += history_list['class_acc']\n",
    "val_class_acc += history_list['val_class_acc']\n",
    "class_loss += history_list['class_loss']\n",
    "val_class_loss += history_list['val_class_loss']\n",
    "print len(class_acc)"
   ]
  },
  {
   "cell_type": "code",
   "execution_count": null,
   "metadata": {
    "collapsed": false
   },
   "outputs": [
    {
     "name": "stdout",
     "output_type": "stream",
     "text": [
      "Train on 2984 samples, validate on 394 samples\n",
      "Epoch 1/10\n",
      "1344/2984 [============>.................] - ETA: 3s - loss: 0.1130 - bb_loss: 76.0511 - class_loss: 0.0370 - bb_acc: 0.8527 - class_acc: 0.9933"
     ]
    }
   ],
   "source": [
    "model.optimizer.lr = 1e-5\n",
    "\n",
    "model.fit(conv_trn_feat, [trn_bbox, trn_labels], batch_size=batch_size, nb_epoch=10, \n",
    "             validation_data=(conv_val_feat, [val_bbox, val_labels]), callbacks=[history])"
   ]
  },
  {
   "cell_type": "code",
   "execution_count": null,
   "metadata": {
    "collapsed": true
   },
   "outputs": [],
   "source": [
    "history_list = history.history\n",
    "class_acc += history_list['class_acc']\n",
    "val_class_acc += history_list['val_class_acc']\n",
    "class_loss += history_list['class_loss']\n",
    "val_class_loss += history_list['val_class_loss']\n",
    "print len(class_acc)"
   ]
  },
  {
   "cell_type": "code",
   "execution_count": 26,
   "metadata": {
    "collapsed": false
   },
   "outputs": [
    {
     "name": "stdout",
     "output_type": "stream",
     "text": [
      "399/399 [==============================] - 0s     \n"
     ]
    },
    {
     "data": {
      "text/plain": [
       "[0.51980371329756014,\n",
       " 251.77194727273812,\n",
       " 0.26803176357693281,\n",
       " 0.8195488723298362,\n",
       " 0.96491228070175439]"
      ]
     },
     "execution_count": 26,
     "metadata": {},
     "output_type": "execute_result"
    }
   ],
   "source": [
    "model.evaluate(conv_test_feat, [test_bbox, test_labels])"
   ]
  },
  {
   "cell_type": "code",
   "execution_count": 21,
   "metadata": {
    "collapsed": false
   },
   "outputs": [
    {
     "data": {
      "image/png": "[encoded data removed]",
      "text/plain": [
       "<matplotlib.figure.Figure at 0x7f2de5c06490>"
      ]
     },
     "metadata": {},
     "output_type": "display_data"
    },
    {
     "data": {
      "image/png": "[encoded data removed]",
      "text/plain": [
       "<matplotlib.figure.Figure at 0x7f2de3646250>"
      ]
     },
     "metadata": {},
     "output_type": "display_data"
    }
   ],
   "source": [
    "# summarize history for accuracy\n",
    "plt.plot(class_acc_percent)\n",
    "plt.plot(val_class_acc_percent)\n",
    "plt.title('improved model accuracy')\n",
    "plt.ylabel('accuracy(%)')\n",
    "plt.xlabel('epoch')\n",
    "plt.legend(['train', 'valid'], loc='lower right')\n",
    "plt.grid(True)\n",
    "plt.yticks(np.arange(40, 103, 3))\n",
    "plt.show()\n",
    "# summarize history for loss\n",
    "plt.plot(class_loss)\n",
    "plt.plot(val_class_loss)\n",
    "plt.title('improved model loss')\n",
    "plt.ylabel('loss')\n",
    "plt.xlabel('epoch')\n",
    "plt.legend(['train', 'valid'], loc='upper right')\n",
    "plt.grid(True)\n",
    "plt.yticks(np.arange(0, 8, 0.3))\n",
    "plt.show()"
   ]
  }
 ],
 "metadata": {
  "anaconda-cloud": {},
  "kernelspec": {
   "display_name": "Python [default]",
   "language": "python",
   "name": "python2"
  },
  "language_info": {
   "codemirror_mode": {
    "name": "ipython",
    "version": 2
   },
   "file_extension": ".py",
   "mimetype": "text/x-python",
   "name": "python",
   "nbconvert_exporter": "python",
   "pygments_lexer": "ipython2",
   "version": "2.7.12"
  }
 },
 "nbformat": 4,
 "nbformat_minor": 1
}
